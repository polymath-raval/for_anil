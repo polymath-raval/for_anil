{
 "cells": [
  {
   "cell_type": "code",
   "execution_count": 7,
   "metadata": {},
   "outputs": [],
   "source": [
    "%matplotlib inline\n",
    "import pandas as pd"
   ]
  },
  {
   "cell_type": "code",
   "execution_count": 8,
   "metadata": {},
   "outputs": [
    {
     "data": {
      "text/html": [
       "<style>body {\n",
       "    margin: 0;\n",
       "    font-family: Helvetica;\n",
       "}\n",
       "table.dataframe {\n",
       "    border-collapse: collapse;\n",
       "    border: none;\n",
       "}\n",
       "table.dataframe tr {\n",
       "    border: none;\n",
       "}\n",
       "table.dataframe td, table.dataframe th {\n",
       "    margin: 0;\n",
       "    border: 1px solid white;\n",
       "    padding-left: 0.25em;\n",
       "    padding-right: 0.25em;\n",
       "}\n",
       "table.dataframe th:not(:empty) {\n",
       "    background-color: #fec;\n",
       "    text-align: left;\n",
       "    font-weight: normal;\n",
       "}\n",
       "table.dataframe tr:nth-child(2) th:empty {\n",
       "    border-left: none;\n",
       "    border-right: 1px dashed #888;\n",
       "}\n",
       "table.dataframe td {\n",
       "    border: 2px solid #ccf;\n",
       "    background-color: #f4f4ff;\n",
       "}\n",
       "h3 {\n",
       "    color: white;\n",
       "    background-color: black;\n",
       "    padding: 0.5em;\n",
       "}\n",
       "</style>"
      ],
      "text/plain": [
       "<IPython.core.display.HTML object>"
      ]
     },
     "execution_count": 8,
     "metadata": {},
     "output_type": "execute_result"
    }
   ],
   "source": [
    "from IPython.core.display import HTML\n",
    "css = open('style-table.css').read() + open('style-notebook.css').read()\n",
    "HTML('<style>{}</style>'.format(css))"
   ]
  },
  {
   "cell_type": "code",
   "execution_count": 9,
   "metadata": {},
   "outputs": [
    {
     "data": {
      "text/html": [
       "<div style=\"max-height:1000px;max-width:1500px;overflow:auto;\">\n",
       "<table border=\"1\" class=\"dataframe\">\n",
       "  <thead>\n",
       "    <tr style=\"text-align: right;\">\n",
       "      <th></th>\n",
       "      <th>title</th>\n",
       "      <th>year</th>\n",
       "    </tr>\n",
       "  </thead>\n",
       "  <tbody>\n",
       "    <tr>\n",
       "      <th>0</th>\n",
       "      <td>                 Night Walker</td>\n",
       "      <td> 2017</td>\n",
       "    </tr>\n",
       "    <tr>\n",
       "      <th>1</th>\n",
       "      <td>             Black Devil Doll</td>\n",
       "      <td> 2007</td>\n",
       "    </tr>\n",
       "    <tr>\n",
       "      <th>2</th>\n",
       "      <td>                Sedmaya pulya</td>\n",
       "      <td> 1973</td>\n",
       "    </tr>\n",
       "    <tr>\n",
       "      <th>3</th>\n",
       "      <td> The Gentleman from Louisiana</td>\n",
       "      <td> 1936</td>\n",
       "    </tr>\n",
       "    <tr>\n",
       "      <th>4</th>\n",
       "      <td>                Agente XU 777</td>\n",
       "      <td> 1963</td>\n",
       "    </tr>\n",
       "  </tbody>\n",
       "</table>\n",
       "</div>"
      ],
      "text/plain": [
       "                          title  year\n",
       "0                  Night Walker  2017\n",
       "1              Black Devil Doll  2007\n",
       "2                 Sedmaya pulya  1973\n",
       "3  The Gentleman from Louisiana  1936\n",
       "4                 Agente XU 777  1963"
      ]
     },
     "execution_count": 9,
     "metadata": {},
     "output_type": "execute_result"
    }
   ],
   "source": [
    "titles = pd.read_csv('data/titles.csv', index_col=None)\n",
    "titles.head()"
   ]
  },
  {
   "cell_type": "code",
   "execution_count": 10,
   "metadata": {},
   "outputs": [
    {
     "data": {
      "text/html": [
       "<div style=\"max-height:1000px;max-width:1500px;overflow:auto;\">\n",
       "<table border=\"1\" class=\"dataframe\">\n",
       "  <thead>\n",
       "    <tr style=\"text-align: right;\">\n",
       "      <th></th>\n",
       "      <th>title</th>\n",
       "      <th>year</th>\n",
       "      <th>name</th>\n",
       "      <th>type</th>\n",
       "      <th>character</th>\n",
       "      <th>n</th>\n",
       "    </tr>\n",
       "  </thead>\n",
       "  <tbody>\n",
       "    <tr>\n",
       "      <th>0</th>\n",
       "      <td>                   Suuri illusioni</td>\n",
       "      <td> 1985</td>\n",
       "      <td>    Homo $</td>\n",
       "      <td> actor</td>\n",
       "      <td>  Guests</td>\n",
       "      <td> 22</td>\n",
       "    </tr>\n",
       "    <tr>\n",
       "      <th>1</th>\n",
       "      <td>    Gangsta Rap: The Glockumentary</td>\n",
       "      <td> 2007</td>\n",
       "      <td> Too $hort</td>\n",
       "      <td> actor</td>\n",
       "      <td> Himself</td>\n",
       "      <td>NaN</td>\n",
       "    </tr>\n",
       "    <tr>\n",
       "      <th>2</th>\n",
       "      <td>                 Menace II Society</td>\n",
       "      <td> 1993</td>\n",
       "      <td> Too $hort</td>\n",
       "      <td> actor</td>\n",
       "      <td> Lew-Loc</td>\n",
       "      <td> 27</td>\n",
       "    </tr>\n",
       "    <tr>\n",
       "      <th>3</th>\n",
       "      <td> Porndogs: The Adventures of Sadie</td>\n",
       "      <td> 2009</td>\n",
       "      <td> Too $hort</td>\n",
       "      <td> actor</td>\n",
       "      <td>   Bosco</td>\n",
       "      <td>  3</td>\n",
       "    </tr>\n",
       "    <tr>\n",
       "      <th>4</th>\n",
       "      <td>                Stop Pepper Palmer</td>\n",
       "      <td> 2014</td>\n",
       "      <td> Too $hort</td>\n",
       "      <td> actor</td>\n",
       "      <td> Himself</td>\n",
       "      <td>NaN</td>\n",
       "    </tr>\n",
       "  </tbody>\n",
       "</table>\n",
       "</div>"
      ],
      "text/plain": [
       "                               title  year       name   type character   n\n",
       "0                    Suuri illusioni  1985     Homo $  actor    Guests  22\n",
       "1     Gangsta Rap: The Glockumentary  2007  Too $hort  actor   Himself NaN\n",
       "2                  Menace II Society  1993  Too $hort  actor   Lew-Loc  27\n",
       "3  Porndogs: The Adventures of Sadie  2009  Too $hort  actor     Bosco   3\n",
       "4                 Stop Pepper Palmer  2014  Too $hort  actor   Himself NaN"
      ]
     },
     "execution_count": 10,
     "metadata": {},
     "output_type": "execute_result"
    }
   ],
   "source": [
    "cast = pd.read_csv('data/cast.csv', index_col=None)\n",
    "cast.head()"
   ]
  },
  {
   "cell_type": "markdown",
   "metadata": {
    "collapsed": true
   },
   "source": [
    "### How many movies are listed in the titles dataframe?"
   ]
  },
  {
   "cell_type": "code",
   "execution_count": 13,
   "metadata": {},
   "outputs": [
    {
     "data": {
      "text/html": [
       "<div style=\"max-height:1000px;max-width:1500px;overflow:auto;\">\n",
       "<table border=\"1\" class=\"dataframe\">\n",
       "  <thead>\n",
       "    <tr style=\"text-align: right;\">\n",
       "      <th></th>\n",
       "      <th>title</th>\n",
       "      <th>year</th>\n",
       "    </tr>\n",
       "  </thead>\n",
       "  <tbody>\n",
       "    <tr>\n",
       "      <th>212806</th>\n",
       "      <td>                       Laura Cadieux... la suite</td>\n",
       "      <td> 1999</td>\n",
       "    </tr>\n",
       "    <tr>\n",
       "      <th>212807</th>\n",
       "      <td>                                  His Tiger Wife</td>\n",
       "      <td> 1928</td>\n",
       "    </tr>\n",
       "    <tr>\n",
       "      <th>212808</th>\n",
       "      <td>                                Ivan Megharoopan</td>\n",
       "      <td> 2012</td>\n",
       "    </tr>\n",
       "    <tr>\n",
       "      <th>212809</th>\n",
       "      <td> Slam Dunk: Zenkoku Seiha da! Sakuragi Hanamichi</td>\n",
       "      <td> 1994</td>\n",
       "    </tr>\n",
       "    <tr>\n",
       "      <th>212810</th>\n",
       "      <td>                                  Bad Lieutenant</td>\n",
       "      <td> 1992</td>\n",
       "    </tr>\n",
       "  </tbody>\n",
       "</table>\n",
       "</div>"
      ],
      "text/plain": [
       "                                                  title  year\n",
       "212806                        Laura Cadieux... la suite  1999\n",
       "212807                                   His Tiger Wife  1928\n",
       "212808                                 Ivan Megharoopan  2012\n",
       "212809  Slam Dunk: Zenkoku Seiha da! Sakuragi Hanamichi  1994\n",
       "212810                                   Bad Lieutenant  1992"
      ]
     },
     "execution_count": 13,
     "metadata": {},
     "output_type": "execute_result"
    }
   ],
   "source": [
    "titles.tail()"
   ]
  },
  {
   "cell_type": "code",
   "execution_count": 14,
   "metadata": {},
   "outputs": [
    {
     "data": {
      "text/plain": [
       "212811"
      ]
     },
     "execution_count": 14,
     "metadata": {},
     "output_type": "execute_result"
    }
   ],
   "source": [
    "len(titles)"
   ]
  },
  {
   "cell_type": "markdown",
   "metadata": {
    "collapsed": true
   },
   "source": [
    "### What are the earliest two films listed in the titles dataframe?"
   ]
  },
  {
   "cell_type": "code",
   "execution_count": 35,
   "metadata": {},
   "outputs": [
    {
     "data": {
      "text/html": [
       "<div style=\"max-height:1000px;max-width:1500px;overflow:auto;\">\n",
       "<table border=\"1\" class=\"dataframe\">\n",
       "  <thead>\n",
       "    <tr style=\"text-align: right;\">\n",
       "      <th></th>\n",
       "      <th>title</th>\n",
       "      <th>year</th>\n",
       "    </tr>\n",
       "  </thead>\n",
       "  <tbody>\n",
       "    <tr>\n",
       "      <th>75090 </th>\n",
       "      <td>                                        Miss Jerry</td>\n",
       "      <td> 1894</td>\n",
       "    </tr>\n",
       "    <tr>\n",
       "      <th>208146</th>\n",
       "      <td> Reproduction of the Corbett and Fitzsimmons Fight</td>\n",
       "      <td> 1897</td>\n",
       "    </tr>\n",
       "  </tbody>\n",
       "</table>\n",
       "</div>"
      ],
      "text/plain": [
       "                                                    title  year\n",
       "75090                                          Miss Jerry  1894\n",
       "208146  Reproduction of the Corbett and Fitzsimmons Fight  1897"
      ]
     },
     "execution_count": 35,
     "metadata": {},
     "output_type": "execute_result"
    }
   ],
   "source": [
    "titles.sort(columns='year', ascending=True).head()[:2]"
   ]
  },
  {
   "cell_type": "code",
   "execution_count": null,
   "metadata": {
    "collapsed": true
   },
   "outputs": [],
   "source": []
  },
  {
   "cell_type": "markdown",
   "metadata": {
    "collapsed": true
   },
   "source": [
    "### How many movies have the title \"Hamlet\"?"
   ]
  },
  {
   "cell_type": "code",
   "execution_count": 57,
   "metadata": {},
   "outputs": [
    {
     "data": {
      "text/html": [
       "<div style=\"max-height:1000px;max-width:1500px;overflow:auto;\">\n",
       "<table border=\"1\" class=\"dataframe\">\n",
       "  <thead>\n",
       "    <tr style=\"text-align: right;\">\n",
       "      <th></th>\n",
       "      <th>title</th>\n",
       "      <th>year</th>\n",
       "    </tr>\n",
       "  </thead>\n",
       "  <tbody>\n",
       "    <tr>\n",
       "      <th>167186</th>\n",
       "      <td>                                  Hamlet</td>\n",
       "      <td> 1910</td>\n",
       "    </tr>\n",
       "    <tr>\n",
       "      <th>110718</th>\n",
       "      <td>                                  Hamlet</td>\n",
       "      <td> 1911</td>\n",
       "    </tr>\n",
       "    <tr>\n",
       "      <th>146662</th>\n",
       "      <td>                                  Hamlet</td>\n",
       "      <td> 1913</td>\n",
       "    </tr>\n",
       "    <tr>\n",
       "      <th>136937</th>\n",
       "      <td>                      A Sagebrush Hamlet</td>\n",
       "      <td> 1919</td>\n",
       "    </tr>\n",
       "    <tr>\n",
       "      <th>173152</th>\n",
       "      <td>                                  Hamlet</td>\n",
       "      <td> 1921</td>\n",
       "    </tr>\n",
       "    <tr>\n",
       "      <th>87192 </th>\n",
       "      <td>                      Han, hun og Hamlet</td>\n",
       "      <td> 1922</td>\n",
       "    </tr>\n",
       "    <tr>\n",
       "      <th>134945</th>\n",
       "      <td>                      Han, hun og Hamlet</td>\n",
       "      <td> 1932</td>\n",
       "    </tr>\n",
       "    <tr>\n",
       "      <th>27537 </th>\n",
       "      <td>                                  Hamlet</td>\n",
       "      <td> 1948</td>\n",
       "    </tr>\n",
       "    <tr>\n",
       "      <th>1280  </th>\n",
       "      <td>                                  Hamlet</td>\n",
       "      <td> 1954</td>\n",
       "    </tr>\n",
       "    <tr>\n",
       "      <th>172705</th>\n",
       "      <td>                             Hamlet (II)</td>\n",
       "      <td> 1964</td>\n",
       "    </tr>\n",
       "    <tr>\n",
       "      <th>77186 </th>\n",
       "      <td>                                  Hamlet</td>\n",
       "      <td> 1964</td>\n",
       "    </tr>\n",
       "    <tr>\n",
       "      <th>143062</th>\n",
       "      <td>                                  Hamlet</td>\n",
       "      <td> 1969</td>\n",
       "    </tr>\n",
       "    <tr>\n",
       "      <th>124666</th>\n",
       "      <td>                                  Hamlet</td>\n",
       "      <td> 1973</td>\n",
       "    </tr>\n",
       "    <tr>\n",
       "      <th>205860</th>\n",
       "      <td>     Predstava 'Hamleta' u Mrdusi Donjoj</td>\n",
       "      <td> 1974</td>\n",
       "    </tr>\n",
       "    <tr>\n",
       "      <th>203660</th>\n",
       "      <td>                                  Hamlet</td>\n",
       "      <td> 1976</td>\n",
       "    </tr>\n",
       "    <tr>\n",
       "      <th>62375 </th>\n",
       "      <td>                            Kadin Hamlet</td>\n",
       "      <td> 1977</td>\n",
       "    </tr>\n",
       "    <tr>\n",
       "      <th>38689 </th>\n",
       "      <td>                                  Hamlet</td>\n",
       "      <td> 1987</td>\n",
       "    </tr>\n",
       "    <tr>\n",
       "      <th>94444 </th>\n",
       "      <td>                  Hamlet liikemaailmassa</td>\n",
       "      <td> 1987</td>\n",
       "    </tr>\n",
       "    <tr>\n",
       "      <th>3263  </th>\n",
       "      <td>               Hamlet: Prince of Denmark</td>\n",
       "      <td> 1989</td>\n",
       "    </tr>\n",
       "    <tr>\n",
       "      <th>122294</th>\n",
       "      <td>                                  Hamlet</td>\n",
       "      <td> 1990</td>\n",
       "    </tr>\n",
       "    <tr>\n",
       "      <th>66740 </th>\n",
       "      <td>                            H for Hamlet</td>\n",
       "      <td> 1993</td>\n",
       "    </tr>\n",
       "    <tr>\n",
       "      <th>144387</th>\n",
       "      <td>                   Green Eggs and Hamlet</td>\n",
       "      <td> 1995</td>\n",
       "    </tr>\n",
       "    <tr>\n",
       "      <th>180973</th>\n",
       "      <td>                             Fuck Hamlet</td>\n",
       "      <td> 1996</td>\n",
       "    </tr>\n",
       "    <tr>\n",
       "      <th>47778 </th>\n",
       "      <td>                                  Hamlet</td>\n",
       "      <td> 1996</td>\n",
       "    </tr>\n",
       "    <tr>\n",
       "      <th>95072 </th>\n",
       "      <td>               Hamlet, Prince of Denmark</td>\n",
       "      <td> 1997</td>\n",
       "    </tr>\n",
       "    <tr>\n",
       "      <th>159308</th>\n",
       "      <td>                                  Hamlet</td>\n",
       "      <td> 2000</td>\n",
       "    </tr>\n",
       "    <tr>\n",
       "      <th>38080 </th>\n",
       "      <td>                  Hamlet in the Hamptons</td>\n",
       "      <td> 2002</td>\n",
       "    </tr>\n",
       "    <tr>\n",
       "      <th>198307</th>\n",
       "      <td>                                Hamlet_X</td>\n",
       "      <td> 2003</td>\n",
       "    </tr>\n",
       "    <tr>\n",
       "      <th>210019</th>\n",
       "      <td>                                Hamlet X</td>\n",
       "      <td> 2004</td>\n",
       "    </tr>\n",
       "    <tr>\n",
       "      <th>182638</th>\n",
       "      <td>         Dogg's Hamlet, Cahoot's Macbeth</td>\n",
       "      <td> 2005</td>\n",
       "    </tr>\n",
       "    <tr>\n",
       "      <th>119773</th>\n",
       "      <td>                             Hamlet (II)</td>\n",
       "      <td> 2005</td>\n",
       "    </tr>\n",
       "    <tr>\n",
       "      <th>27436 </th>\n",
       "      <td> The Tragedy of Hamlet Prince of Denmark</td>\n",
       "      <td> 2007</td>\n",
       "    </tr>\n",
       "    <tr>\n",
       "      <th>17995 </th>\n",
       "      <td>                            Hamlet (III)</td>\n",
       "      <td> 2007</td>\n",
       "    </tr>\n",
       "    <tr>\n",
       "      <th>186622</th>\n",
       "      <td>                             Hamlet (II)</td>\n",
       "      <td> 2007</td>\n",
       "    </tr>\n",
       "    <tr>\n",
       "      <th>75281 </th>\n",
       "      <td>                                Hamlet 2</td>\n",
       "      <td> 2008</td>\n",
       "    </tr>\n",
       "    <tr>\n",
       "      <th>133220</th>\n",
       "      <td>               Hamlet the Vampire Slayer</td>\n",
       "      <td> 2008</td>\n",
       "    </tr>\n",
       "    <tr>\n",
       "      <th>105551</th>\n",
       "      <td>                          Kitchen Hamlet</td>\n",
       "      <td> 2009</td>\n",
       "    </tr>\n",
       "    <tr>\n",
       "      <th>188073</th>\n",
       "      <td>                                  Hamlet</td>\n",
       "      <td> 2009</td>\n",
       "    </tr>\n",
       "    <tr>\n",
       "      <th>182527</th>\n",
       "      <td>                                  Hamlet</td>\n",
       "      <td> 2011</td>\n",
       "    </tr>\n",
       "    <tr>\n",
       "      <th>34283 </th>\n",
       "      <td>                          Hamlet Unbound</td>\n",
       "      <td> 2012</td>\n",
       "    </tr>\n",
       "    <tr>\n",
       "      <th>124660</th>\n",
       "      <td>                           Zombie Hamlet</td>\n",
       "      <td> 2012</td>\n",
       "    </tr>\n",
       "    <tr>\n",
       "      <th>48552 </th>\n",
       "      <td>                     Harry, Hamlet and I</td>\n",
       "      <td> 2013</td>\n",
       "    </tr>\n",
       "    <tr>\n",
       "      <th>76061 </th>\n",
       "      <td>                           Hamlet A.D.D.</td>\n",
       "      <td> 2014</td>\n",
       "    </tr>\n",
       "    <tr>\n",
       "      <th>193231</th>\n",
       "      <td>                                  Hamlet</td>\n",
       "      <td> 2014</td>\n",
       "    </tr>\n",
       "    <tr>\n",
       "      <th>158953</th>\n",
       "      <td>                          Hamlet's Ghost</td>\n",
       "      <td> 2014</td>\n",
       "    </tr>\n",
       "    <tr>\n",
       "      <th>174405</th>\n",
       "      <td>                            Hamlet (III)</td>\n",
       "      <td> 2015</td>\n",
       "    </tr>\n",
       "    <tr>\n",
       "      <th>44725 </th>\n",
       "      <td>                                  Hamlet</td>\n",
       "      <td> 2015</td>\n",
       "    </tr>\n",
       "    <tr>\n",
       "      <th>7032  </th>\n",
       "      <td>           National Theatre Live: Hamlet</td>\n",
       "      <td> 2015</td>\n",
       "    </tr>\n",
       "    <tr>\n",
       "      <th>44187 </th>\n",
       "      <td>                             Hamlet (II)</td>\n",
       "      <td> 2015</td>\n",
       "    </tr>\n",
       "    <tr>\n",
       "      <th>209484</th>\n",
       "      <td>                Hamlet, Son of a Kingpin</td>\n",
       "      <td> 2015</td>\n",
       "    </tr>\n",
       "    <tr>\n",
       "      <th>106391</th>\n",
       "      <td>            Hamlet (A Modern Adaptation)</td>\n",
       "      <td> 2016</td>\n",
       "    </tr>\n",
       "    <tr>\n",
       "      <th>120226</th>\n",
       "      <td>                                  Hamlet</td>\n",
       "      <td> 2016</td>\n",
       "    </tr>\n",
       "    <tr>\n",
       "      <th>133518</th>\n",
       "      <td>           Hamlet: The Fall of a Sparrow</td>\n",
       "      <td> 2016</td>\n",
       "    </tr>\n",
       "  </tbody>\n",
       "</table>\n",
       "</div>"
      ],
      "text/plain": [
       "                                          title  year\n",
       "167186                                   Hamlet  1910\n",
       "110718                                   Hamlet  1911\n",
       "146662                                   Hamlet  1913\n",
       "136937                       A Sagebrush Hamlet  1919\n",
       "173152                                   Hamlet  1921\n",
       "87192                        Han, hun og Hamlet  1922\n",
       "134945                       Han, hun og Hamlet  1932\n",
       "27537                                    Hamlet  1948\n",
       "1280                                     Hamlet  1954\n",
       "172705                              Hamlet (II)  1964\n",
       "77186                                    Hamlet  1964\n",
       "143062                                   Hamlet  1969\n",
       "124666                                   Hamlet  1973\n",
       "205860      Predstava 'Hamleta' u Mrdusi Donjoj  1974\n",
       "203660                                   Hamlet  1976\n",
       "62375                              Kadin Hamlet  1977\n",
       "38689                                    Hamlet  1987\n",
       "94444                    Hamlet liikemaailmassa  1987\n",
       "3263                  Hamlet: Prince of Denmark  1989\n",
       "122294                                   Hamlet  1990\n",
       "66740                              H for Hamlet  1993\n",
       "144387                    Green Eggs and Hamlet  1995\n",
       "180973                              Fuck Hamlet  1996\n",
       "47778                                    Hamlet  1996\n",
       "95072                 Hamlet, Prince of Denmark  1997\n",
       "159308                                   Hamlet  2000\n",
       "38080                    Hamlet in the Hamptons  2002\n",
       "198307                                 Hamlet_X  2003\n",
       "210019                                 Hamlet X  2004\n",
       "182638          Dogg's Hamlet, Cahoot's Macbeth  2005\n",
       "119773                              Hamlet (II)  2005\n",
       "27436   The Tragedy of Hamlet Prince of Denmark  2007\n",
       "17995                              Hamlet (III)  2007\n",
       "186622                              Hamlet (II)  2007\n",
       "75281                                  Hamlet 2  2008\n",
       "133220                Hamlet the Vampire Slayer  2008\n",
       "105551                           Kitchen Hamlet  2009\n",
       "188073                                   Hamlet  2009\n",
       "182527                                   Hamlet  2011\n",
       "34283                            Hamlet Unbound  2012\n",
       "124660                            Zombie Hamlet  2012\n",
       "48552                       Harry, Hamlet and I  2013\n",
       "76061                             Hamlet A.D.D.  2014\n",
       "193231                                   Hamlet  2014\n",
       "158953                           Hamlet's Ghost  2014\n",
       "174405                             Hamlet (III)  2015\n",
       "44725                                    Hamlet  2015\n",
       "7032              National Theatre Live: Hamlet  2015\n",
       "44187                               Hamlet (II)  2015\n",
       "209484                 Hamlet, Son of a Kingpin  2015\n",
       "106391             Hamlet (A Modern Adaptation)  2016\n",
       "120226                                   Hamlet  2016\n",
       "133518            Hamlet: The Fall of a Sparrow  2016"
      ]
     },
     "execution_count": 57,
     "metadata": {},
     "output_type": "execute_result"
    }
   ],
   "source": [
    "titles[titles['title'].str.contains('Hamlet')].sort_values('year')"
   ]
  },
  {
   "cell_type": "code",
   "execution_count": null,
   "metadata": {
    "collapsed": true
   },
   "outputs": [],
   "source": []
  },
  {
   "cell_type": "markdown",
   "metadata": {
    "collapsed": true
   },
   "source": [
    "### How many movies are titled \"North by Northwest\"?"
   ]
  },
  {
   "cell_type": "code",
   "execution_count": 45,
   "metadata": {},
   "outputs": [
    {
     "data": {
      "text/plain": [
       "1"
      ]
     },
     "execution_count": 45,
     "metadata": {},
     "output_type": "execute_result"
    }
   ],
   "source": [
    "len(titles[titles.title == 'North by Northwest'])"
   ]
  },
  {
   "cell_type": "code",
   "execution_count": null,
   "metadata": {
    "collapsed": true
   },
   "outputs": [],
   "source": []
  },
  {
   "cell_type": "markdown",
   "metadata": {
    "collapsed": true
   },
   "source": [
    "### When was the first movie titled \"Hamlet\" made?"
   ]
  },
  {
   "cell_type": "code",
   "execution_count": 49,
   "metadata": {},
   "outputs": [
    {
     "data": {
      "text/html": [
       "<div style=\"max-height:1000px;max-width:1500px;overflow:auto;\">\n",
       "<table border=\"1\" class=\"dataframe\">\n",
       "  <thead>\n",
       "    <tr style=\"text-align: right;\">\n",
       "      <th></th>\n",
       "      <th>title</th>\n",
       "      <th>year</th>\n",
       "    </tr>\n",
       "  </thead>\n",
       "  <tbody>\n",
       "    <tr>\n",
       "      <th>167186</th>\n",
       "      <td> Hamlet</td>\n",
       "      <td> 1910</td>\n",
       "    </tr>\n",
       "  </tbody>\n",
       "</table>\n",
       "</div>"
      ],
      "text/plain": [
       "         title  year\n",
       "167186  Hamlet  1910"
      ]
     },
     "execution_count": 49,
     "metadata": {},
     "output_type": "execute_result"
    }
   ],
   "source": [
    "titles[titles['title'] 'Hamlet'].sort_values('year')[:1]"
   ]
  },
  {
   "cell_type": "code",
   "execution_count": null,
   "metadata": {
    "collapsed": true
   },
   "outputs": [],
   "source": []
  },
  {
   "cell_type": "markdown",
   "metadata": {
    "collapsed": true
   },
   "source": [
    "### List all of the \"Treasure Island\" movies from earliest to most recent."
   ]
  },
  {
   "cell_type": "code",
   "execution_count": 53,
   "metadata": {},
   "outputs": [
    {
     "data": {
      "text/html": [
       "<div style=\"max-height:1000px;max-width:1500px;overflow:auto;\">\n",
       "<table border=\"1\" class=\"dataframe\">\n",
       "  <thead>\n",
       "    <tr style=\"text-align: right;\">\n",
       "      <th></th>\n",
       "      <th>title</th>\n",
       "      <th>year</th>\n",
       "    </tr>\n",
       "  </thead>\n",
       "  <tbody>\n",
       "    <tr>\n",
       "      <th>78006 </th>\n",
       "      <td> Treasure Island</td>\n",
       "      <td> 1918</td>\n",
       "    </tr>\n",
       "    <tr>\n",
       "      <th>41697 </th>\n",
       "      <td> Treasure Island</td>\n",
       "      <td> 1920</td>\n",
       "    </tr>\n",
       "    <tr>\n",
       "      <th>188475</th>\n",
       "      <td> Treasure Island</td>\n",
       "      <td> 1934</td>\n",
       "    </tr>\n",
       "    <tr>\n",
       "      <th>38126 </th>\n",
       "      <td> Treasure Island</td>\n",
       "      <td> 1950</td>\n",
       "    </tr>\n",
       "    <tr>\n",
       "      <th>16087 </th>\n",
       "      <td> Treasure Island</td>\n",
       "      <td> 1972</td>\n",
       "    </tr>\n",
       "    <tr>\n",
       "      <th>164157</th>\n",
       "      <td> Treasure Island</td>\n",
       "      <td> 1973</td>\n",
       "    </tr>\n",
       "    <tr>\n",
       "      <th>171892</th>\n",
       "      <td> Treasure Island</td>\n",
       "      <td> 1985</td>\n",
       "    </tr>\n",
       "    <tr>\n",
       "      <th>68316 </th>\n",
       "      <td> Treasure Island</td>\n",
       "      <td> 1999</td>\n",
       "    </tr>\n",
       "  </tbody>\n",
       "</table>\n",
       "</div>"
      ],
      "text/plain": [
       "                  title  year\n",
       "78006   Treasure Island  1918\n",
       "41697   Treasure Island  1920\n",
       "188475  Treasure Island  1934\n",
       "38126   Treasure Island  1950\n",
       "16087   Treasure Island  1972\n",
       "164157  Treasure Island  1973\n",
       "171892  Treasure Island  1985\n",
       "68316   Treasure Island  1999"
      ]
     },
     "execution_count": 53,
     "metadata": {},
     "output_type": "execute_result"
    }
   ],
   "source": [
    "titles[titles.title == 'Treasure Island'].sort_values('year')"
   ]
  },
  {
   "cell_type": "code",
   "execution_count": null,
   "metadata": {
    "collapsed": true
   },
   "outputs": [],
   "source": []
  },
  {
   "cell_type": "markdown",
   "metadata": {
    "collapsed": true
   },
   "source": [
    "### How many movies were made in the year 1950?"
   ]
  },
  {
   "cell_type": "code",
   "execution_count": 54,
   "metadata": {},
   "outputs": [
    {
     "data": {
      "text/plain": [
       "1033"
      ]
     },
     "execution_count": 54,
     "metadata": {},
     "output_type": "execute_result"
    }
   ],
   "source": [
    "len(titles[titles.year == 1950])"
   ]
  },
  {
   "cell_type": "code",
   "execution_count": null,
   "metadata": {
    "collapsed": true
   },
   "outputs": [],
   "source": []
  },
  {
   "cell_type": "markdown",
   "metadata": {
    "collapsed": true
   },
   "source": [
    "### How many movies were made in the year 1960?"
   ]
  },
  {
   "cell_type": "code",
   "execution_count": 55,
   "metadata": {},
   "outputs": [
    {
     "data": {
      "text/plain": [
       "1423"
      ]
     },
     "execution_count": 55,
     "metadata": {},
     "output_type": "execute_result"
    }
   ],
   "source": [
    "movies_of_1960 = titles[titles.year == 1960]\n",
    "len(movies_of_1960)"
   ]
  },
  {
   "cell_type": "code",
   "execution_count": null,
   "metadata": {
    "collapsed": true
   },
   "outputs": [],
   "source": []
  },
  {
   "cell_type": "markdown",
   "metadata": {
    "collapsed": true
   },
   "source": [
    "### How many movies were made from 1950 through 1959?"
   ]
  },
  {
   "cell_type": "code",
   "execution_count": 67,
   "metadata": {},
   "outputs": [
    {
     "data": {
      "text/plain": [
       "1033"
      ]
     },
     "execution_count": 67,
     "metadata": {},
     "output_type": "execute_result"
    }
   ],
   "source": [
    "moviesOf1950And1959 = titles[(titles.year >= 1950) & (titles.year <= 1950)]\n",
    "len(moviesOf1950And1959)"
   ]
  },
  {
   "cell_type": "code",
   "execution_count": null,
   "metadata": {
    "collapsed": true
   },
   "outputs": [],
   "source": []
  },
  {
   "cell_type": "markdown",
   "metadata": {
    "collapsed": true
   },
   "source": [
    "### In what years has a movie titled \"Batman\" been released?"
   ]
  },
  {
   "cell_type": "code",
   "execution_count": null,
   "metadata": {
    "collapsed": true
   },
   "outputs": [],
   "source": []
  },
  {
   "cell_type": "code",
   "execution_count": null,
   "metadata": {
    "collapsed": true
   },
   "outputs": [],
   "source": []
  },
  {
   "cell_type": "markdown",
   "metadata": {
    "collapsed": true
   },
   "source": [
    "### How many roles were there in the movie \"Inception\"?"
   ]
  },
  {
   "cell_type": "code",
   "execution_count": null,
   "metadata": {
    "collapsed": true
   },
   "outputs": [],
   "source": []
  },
  {
   "cell_type": "code",
   "execution_count": null,
   "metadata": {
    "collapsed": true
   },
   "outputs": [],
   "source": []
  },
  {
   "cell_type": "markdown",
   "metadata": {
    "collapsed": true
   },
   "source": [
    "### How many roles in the movie \"Inception\" are NOT ranked by an \"n\" value?"
   ]
  },
  {
   "cell_type": "code",
   "execution_count": null,
   "metadata": {
    "collapsed": true
   },
   "outputs": [],
   "source": []
  },
  {
   "cell_type": "code",
   "execution_count": null,
   "metadata": {
    "collapsed": true
   },
   "outputs": [],
   "source": []
  },
  {
   "cell_type": "markdown",
   "metadata": {
    "collapsed": true
   },
   "source": [
    "### But how many roles in the movie \"Inception\" did receive an \"n\" value?"
   ]
  },
  {
   "cell_type": "code",
   "execution_count": null,
   "metadata": {
    "collapsed": true
   },
   "outputs": [],
   "source": []
  },
  {
   "cell_type": "code",
   "execution_count": null,
   "metadata": {
    "collapsed": true
   },
   "outputs": [],
   "source": []
  },
  {
   "cell_type": "markdown",
   "metadata": {
    "collapsed": true
   },
   "source": [
    "### Display the cast of \"North by Northwest\" in their correct \"n\"-value order, ignoring roles that did not earn a numeric \"n\" value."
   ]
  },
  {
   "cell_type": "code",
   "execution_count": null,
   "metadata": {
    "collapsed": true
   },
   "outputs": [],
   "source": []
  },
  {
   "cell_type": "code",
   "execution_count": null,
   "metadata": {
    "collapsed": true
   },
   "outputs": [],
   "source": []
  },
  {
   "cell_type": "markdown",
   "metadata": {
    "collapsed": true
   },
   "source": [
    "### Display the entire cast, in \"n\"-order, of the 1972 film \"Sleuth\"."
   ]
  },
  {
   "cell_type": "code",
   "execution_count": null,
   "metadata": {
    "collapsed": true
   },
   "outputs": [],
   "source": []
  },
  {
   "cell_type": "code",
   "execution_count": null,
   "metadata": {
    "collapsed": true
   },
   "outputs": [],
   "source": []
  },
  {
   "cell_type": "markdown",
   "metadata": {
    "collapsed": true
   },
   "source": [
    "### Now display the entire cast, in \"n\"-order, of the 2007 version of \"Sleuth\"."
   ]
  },
  {
   "cell_type": "code",
   "execution_count": null,
   "metadata": {
    "collapsed": true
   },
   "outputs": [],
   "source": []
  },
  {
   "cell_type": "code",
   "execution_count": null,
   "metadata": {
    "collapsed": true
   },
   "outputs": [],
   "source": []
  },
  {
   "cell_type": "markdown",
   "metadata": {
    "collapsed": true
   },
   "source": [
    "### How many roles were credited in the silent 1921 version of Hamlet?"
   ]
  },
  {
   "cell_type": "code",
   "execution_count": null,
   "metadata": {
    "collapsed": true
   },
   "outputs": [],
   "source": []
  },
  {
   "cell_type": "code",
   "execution_count": null,
   "metadata": {
    "collapsed": true
   },
   "outputs": [],
   "source": []
  },
  {
   "cell_type": "markdown",
   "metadata": {
    "collapsed": true
   },
   "source": [
    "### How many roles were credited in Branagh’s 1996 Hamlet?"
   ]
  },
  {
   "cell_type": "code",
   "execution_count": null,
   "metadata": {
    "collapsed": true
   },
   "outputs": [],
   "source": []
  },
  {
   "cell_type": "code",
   "execution_count": null,
   "metadata": {
    "collapsed": true
   },
   "outputs": [],
   "source": []
  },
  {
   "cell_type": "markdown",
   "metadata": {
    "collapsed": true
   },
   "source": [
    "### How many \"Hamlet\" roles have been listed in all film credits through history?"
   ]
  },
  {
   "cell_type": "code",
   "execution_count": null,
   "metadata": {
    "collapsed": true
   },
   "outputs": [],
   "source": []
  },
  {
   "cell_type": "code",
   "execution_count": null,
   "metadata": {
    "collapsed": true
   },
   "outputs": [],
   "source": []
  },
  {
   "cell_type": "markdown",
   "metadata": {
    "collapsed": true
   },
   "source": [
    "### How many people have played an \"Ophelia\"?"
   ]
  },
  {
   "cell_type": "code",
   "execution_count": null,
   "metadata": {
    "collapsed": true
   },
   "outputs": [],
   "source": []
  },
  {
   "cell_type": "code",
   "execution_count": null,
   "metadata": {
    "collapsed": true
   },
   "outputs": [],
   "source": []
  },
  {
   "cell_type": "markdown",
   "metadata": {
    "collapsed": true
   },
   "source": [
    "### How many people have played a role called \"The Dude\"?"
   ]
  },
  {
   "cell_type": "code",
   "execution_count": null,
   "metadata": {
    "collapsed": true
   },
   "outputs": [],
   "source": []
  },
  {
   "cell_type": "code",
   "execution_count": null,
   "metadata": {
    "collapsed": true
   },
   "outputs": [],
   "source": []
  },
  {
   "cell_type": "markdown",
   "metadata": {
    "collapsed": true
   },
   "source": [
    "### How many people have played a role called \"The Stranger\"?"
   ]
  },
  {
   "cell_type": "code",
   "execution_count": null,
   "metadata": {
    "collapsed": true
   },
   "outputs": [],
   "source": []
  },
  {
   "cell_type": "code",
   "execution_count": null,
   "metadata": {
    "collapsed": true
   },
   "outputs": [],
   "source": []
  },
  {
   "cell_type": "markdown",
   "metadata": {
    "collapsed": true
   },
   "source": [
    "### How many roles has Sidney Poitier played throughout his career?"
   ]
  },
  {
   "cell_type": "code",
   "execution_count": null,
   "metadata": {
    "collapsed": true
   },
   "outputs": [],
   "source": []
  },
  {
   "cell_type": "code",
   "execution_count": null,
   "metadata": {
    "collapsed": true
   },
   "outputs": [],
   "source": []
  },
  {
   "cell_type": "markdown",
   "metadata": {
    "collapsed": true
   },
   "source": [
    "### How many roles has Judi Dench played?"
   ]
  },
  {
   "cell_type": "code",
   "execution_count": null,
   "metadata": {
    "collapsed": true
   },
   "outputs": [],
   "source": []
  },
  {
   "cell_type": "code",
   "execution_count": null,
   "metadata": {
    "collapsed": true
   },
   "outputs": [],
   "source": []
  },
  {
   "cell_type": "markdown",
   "metadata": {
    "collapsed": true
   },
   "source": [
    "### List the supporting roles (having n=2) played by Cary Grant in the 1940s, in order by year."
   ]
  },
  {
   "cell_type": "code",
   "execution_count": null,
   "metadata": {
    "collapsed": true
   },
   "outputs": [],
   "source": []
  },
  {
   "cell_type": "code",
   "execution_count": null,
   "metadata": {
    "collapsed": true
   },
   "outputs": [],
   "source": []
  },
  {
   "cell_type": "markdown",
   "metadata": {
    "collapsed": true
   },
   "source": [
    "### List the leading roles that Cary Grant played in the 1940s in order by year."
   ]
  },
  {
   "cell_type": "code",
   "execution_count": null,
   "metadata": {
    "collapsed": true
   },
   "outputs": [],
   "source": []
  },
  {
   "cell_type": "code",
   "execution_count": null,
   "metadata": {
    "collapsed": true
   },
   "outputs": [],
   "source": []
  },
  {
   "cell_type": "markdown",
   "metadata": {
    "collapsed": true
   },
   "source": [
    "### How many roles were available for actors in the 1950s?"
   ]
  },
  {
   "cell_type": "code",
   "execution_count": null,
   "metadata": {
    "collapsed": true
   },
   "outputs": [],
   "source": []
  },
  {
   "cell_type": "code",
   "execution_count": null,
   "metadata": {
    "collapsed": true
   },
   "outputs": [],
   "source": []
  },
  {
   "cell_type": "markdown",
   "metadata": {
    "collapsed": true
   },
   "source": [
    "### How many roles were avilable for actresses in the 1950s?"
   ]
  },
  {
   "cell_type": "code",
   "execution_count": null,
   "metadata": {
    "collapsed": true
   },
   "outputs": [],
   "source": []
  },
  {
   "cell_type": "code",
   "execution_count": null,
   "metadata": {
    "collapsed": true
   },
   "outputs": [],
   "source": []
  },
  {
   "cell_type": "markdown",
   "metadata": {
    "collapsed": true
   },
   "source": [
    "### How many leading roles (n=1) were available from the beginning of film history through 1980?"
   ]
  },
  {
   "cell_type": "code",
   "execution_count": null,
   "metadata": {
    "collapsed": true
   },
   "outputs": [],
   "source": []
  },
  {
   "cell_type": "code",
   "execution_count": null,
   "metadata": {
    "collapsed": true
   },
   "outputs": [],
   "source": []
  },
  {
   "cell_type": "markdown",
   "metadata": {
    "collapsed": true
   },
   "source": [
    "### How many non-leading roles were available through from the beginning of film history through 1980?"
   ]
  },
  {
   "cell_type": "code",
   "execution_count": null,
   "metadata": {
    "collapsed": true
   },
   "outputs": [],
   "source": []
  },
  {
   "cell_type": "code",
   "execution_count": null,
   "metadata": {
    "collapsed": true
   },
   "outputs": [],
   "source": []
  },
  {
   "cell_type": "markdown",
   "metadata": {
    "collapsed": true
   },
   "source": [
    "### How many roles through 1980 were minor enough that they did not warrant a numeric \"n\" rank?"
   ]
  },
  {
   "cell_type": "code",
   "execution_count": null,
   "metadata": {
    "collapsed": true
   },
   "outputs": [],
   "source": []
  },
  {
   "cell_type": "code",
   "execution_count": 82,
   "metadata": {},
   "outputs": [
    {
     "data": {
      "text/plain": [
       "<matplotlib.axes._subplots.AxesSubplot at 0x10fc49940>"
      ]
     },
     "execution_count": 82,
     "metadata": {},
     "output_type": "execute_result"
    },
    {
     "data": {
      "image/png": "[encoded data removed]",
      "text/plain": [
       "<matplotlib.figure.Figure at 0x10fc46cc0>"
      ]
     },
     "metadata": {},
     "output_type": "display_data"
    }
   ],
   "source": [
    "titles.year.value_counts().sort_index().plot()"
   ]
  },
  {
   "cell_type": "code",
   "execution_count": null,
   "metadata": {
    "collapsed": true
   },
   "outputs": [],
   "source": []
  }
 ],
 "metadata": {
  "kernelspec": {
   "display_name": "Python 3",
   "language": "python",
   "name": "python3"
  },
  "language_info": {
   "codemirror_mode": {
    "name": "ipython",
    "version": 3
   },
   "file_extension": ".py",
   "mimetype": "text/x-python",
   "name": "python",
   "nbconvert_exporter": "python",
   "pygments_lexer": "ipython3",
   "version": "3.7.4"
  }
 },
 "nbformat": 4,
 "nbformat_minor": 1
}
